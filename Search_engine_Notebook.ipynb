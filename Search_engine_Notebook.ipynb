{
  "nbformat": 4,
  "nbformat_minor": 0,
  "metadata": {
    "colab": {
      "name": "Search_engine.ipynb",
      "provenance": [],
      "collapsed_sections": []
    },
    "kernelspec": {
      "name": "python3",
      "display_name": "Python 3"
    },
    "language_info": {
      "name": "python"
    }
  },
  "cells": [
    {
      "cell_type": "code",
      "metadata": {
        "id": "8PDhueiUvZTV"
      },
      "source": [
        "import json\n",
        "from datetime import datetime\n",
        "import string as s\n",
        "from random import *"
      ],
      "execution_count": 2,
      "outputs": []
    },
    {
      "cell_type": "markdown",
      "metadata": {
        "id": "z3cEFoVFDgAu"
      },
      "source": [
        "#### Note: \n",
        "Before proceeding upload the 'chemist_store.json' and 'Search_History.json' files"
      ]
    },
    {
      "cell_type": "code",
      "metadata": {
        "id": "dby0HY9jUybZ",
        "colab": {
          "base_uri": "https://localhost:8080/"
        },
        "outputId": "ec715671-b212-43de-d5a9-2db698a091f9"
      },
      "source": [
        "# Loading Json Files\n",
        "with open(\"chemist_store.json\", \"r\") as access_file:\n",
        "    store_data = json.load(access_file)\n",
        "\n",
        "with open(\"Search_History.json\", \"r\") as js:\n",
        "    h_data = json.load(js)\n",
        "\n",
        "# Extract Product ID and Medicine Info of the dict to two separate lists\n",
        "Store_Keylst = list(store_data.keys())\n",
        "store_values = store_data.values()\n",
        "\n",
        "# Extract Medicine Name\n",
        "def get_Med_info():\n",
        "    global Name_Lst\n",
        "    a = []\n",
        "    Medicine_Namelst = []\n",
        "    for med_info in store_values:\n",
        "        med_name = med_info[\"Name\"]\n",
        "        Medicine_Namelst.append(med_name)\n",
        "       \n",
        "    \n",
        "    a.append(Medicine_Namelst)\n",
        "    Name_Lst = [item for sublist in a for item in sublist]\n",
        "    return Name_Lst\n",
        "    \n",
        "\n",
        "# Extract Medicine Price List\n",
        "def get_price_info():\n",
        "    global Med_priceLst\n",
        "    b = []\n",
        "    get_Med_Price = []\n",
        "    for med_info in store_values:\n",
        "        med_price = med_info[\"Price\"]\n",
        "        get_Med_Price.append(med_price)\n",
        "\n",
        "    b.append(get_Med_Price)\n",
        "    Med_priceLst = [item for sublist in b for item in sublist]\n",
        "    return Med_priceLst\n",
        "\n",
        "\n",
        "Med_Name_Dict = {get_Med_info()[i]: Store_Keylst[i] for i in range(len(get_Med_info())) }\n",
        "Med_Price_Dict = {get_Med_info()[i]: get_price_info()[i] for i in range(len(get_price_info()))}\n",
        "\n",
        "\n",
        "search_lst = list()\n",
        "result_lst = list()\n",
        "\n",
        "# Search \n",
        "name = str(input(\"Write the Name of the Medicine: \"))\n",
        "search_lst.append(name)\n",
        "if name in get_Med_info():\n",
        "    result = \"Available!\"\n",
        "    print(result)\n",
        "    print(\"ID: \",Med_Name_Dict[name])\n",
        "    print(\"Price: \", Med_Price_Dict[name])\n",
        "    \n",
        "else:\n",
        "    result = \"Will be available shortly.\"\n",
        "    print(result)\n",
        "\n",
        "result_lst.append(result)\n",
        "\n",
        "history_dct = {search_lst[i]: result_lst[i] for i in range(len(search_lst))}\n",
        "\n",
        "# Receipt Number\n",
        "ch = s.ascii_letters + s.digits\n",
        "rcp = \"\".join(choice(ch) for x in range(randint(12,14)))\n",
        "search_id = \"978735-\" + rcp\n",
        "\n",
        "\n",
        "# Date Time:\n",
        "now = datetime.now()\n",
        "date = now.strftime(\"%d/%m/%Y %H:%M:%S\")\n",
        "\n",
        "h_data[search_id] = [date,[history_dct]]\n",
        "\n",
        "with open(\"Search_History.json\", \"w\") as Json_f:\n",
        "    json.dump(h_data, Json_f)"
      ],
      "execution_count": 6,
      "outputs": [
        {
          "output_type": "stream",
          "name": "stdout",
          "text": [
            "Write the Name of the Medicine: Omez\n",
            "Will be available shortly.\n"
          ]
        }
      ]
    },
    {
      "cell_type": "code",
      "metadata": {
        "id": "3Q-WKYqVbxhW",
        "colab": {
          "base_uri": "https://localhost:8080/"
        },
        "outputId": "906a9dc3-988f-4a28-808f-8eb9860baaf3"
      },
      "source": [
        "with open(\"Search_History.json\") as js:\n",
        "    h_data = json.load(js)\n",
        "\n",
        "h_data"
      ],
      "execution_count": 7,
      "outputs": [
        {
          "output_type": "execute_result",
          "data": {
            "text/plain": [
              "{'978735-1SjbJMvIkctEO': ['06/09/2021 07:14:12',\n",
              "  [{'Omez': 'Will be available shortly.'}]],\n",
              " '978735-5hhK5YALeKOA7a': ['06/09/2021 02:48:17',\n",
              "  [{'Glofa face wash': 'Not Available'}]],\n",
              " '978735-COuT8zD4hmQC': ['06/09/2021 02:48:02', [{'Scaboma': 'Available!'}]],\n",
              " '978735-FsBKsx43FTyvb': ['06/09/2021 01:26:24',\n",
              "  [{'Femcinol': 'Not Available'}]],\n",
              " '978735-HJyZ6Xnh9wfAVi': ['06/09/2021 01:23:07',\n",
              "  [{'Torex': 'Will be available shortly.'}]],\n",
              " '978735-LYIqnSfA9Ldpk': ['06/09/2021 07:13:14',\n",
              "  [{'Zinconia-50': 'Will be available shortly.'}]],\n",
              " '978735-P1AEiG6ZT6Rq': ['06/09/2021 01:22:55',\n",
              "  [{'Nimtech Plus': 'Available!'}]],\n",
              " '978735-WnddsymClZ02RR': ['06/09/2021 01:22:39',\n",
              "  [{'Scaboma': 'Will be available shortly.'}]],\n",
              " '978735-c3VeQ1RSUnBdQ8': ['06/09/2021 01:25:37',\n",
              "  [{'Sensodyne Toothpaste': 'Not Available'}]],\n",
              " '978735-ieSuoUqWXyzs': ['06/09/2021 01:23:37',\n",
              "  [{'Sualin': 'Will be available shortly.'}]],\n",
              " '978735-kK8LQPBPzDg6ky': ['06/09/2021 01:25:58',\n",
              "  [{'Pantosec DSR': 'Not Available'}]],\n",
              " '978735-pT03wdCAMfuY': ['06/09/2021 07:13:50',\n",
              "  [{'Pantop 40': 'Will be available shortly.'}]],\n",
              " '978735-zI1EK8YxjchBVs': ['06/09/2021 01:24:59',\n",
              "  [{'Vicks Rollon': 'Not Available'}]]}"
            ]
          },
          "metadata": {},
          "execution_count": 7
        }
      ]
    },
    {
      "cell_type": "code",
      "metadata": {
        "id": "tVIA389XH0tT"
      },
      "source": [
        ""
      ],
      "execution_count": null,
      "outputs": []
    }
  ]
}