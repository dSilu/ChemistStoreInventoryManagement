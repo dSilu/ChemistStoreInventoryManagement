{
 "cells": [
  {
   "cell_type": "code",
   "execution_count": 1,
   "metadata": {
    "id": "8PDhueiUvZTV"
   },
   "outputs": [],
   "source": [
    "import json\n",
    "from datetime import datetime\n",
    "import string as s\n",
    "from random import *"
   ]
  },
  {
   "cell_type": "code",
   "execution_count": 3,
   "metadata": {
    "colab": {
     "base_uri": "https://localhost:8080/"
    },
    "id": "dby0HY9jUybZ",
    "outputId": "1e2a6652-2407-4f5d-cf6a-0139e468c401"
   },
   "outputs": [
    {
     "name": "stdout",
     "output_type": "stream",
     "text": [
      "Write the Name of the Medicine: Glofa face wash\n",
      "Will be available shortly.\n"
     ]
    }
   ],
   "source": [
    "# Loading Json Files\n",
    "with open(\"chemist_store.json\", \"r\") as access_file:\n",
    "    store_data = json.load(access_file)\n",
    "\n",
    "with open(\"Search_History.json\", \"r\") as js:\n",
    "    h_data = json.load(js)\n",
    "\n",
    "# Extract Product ID and Medicine Info of the dict to two separate lists\n",
    "Store_Keylst = list(store_data.keys())\n",
    "store_values = store_data.values()\n",
    "\n",
    "# Extract Medicine Name\n",
    "def get_Med_info():\n",
    "    global Name_Lst\n",
    "    a = []\n",
    "    Medicine_Namelst = []\n",
    "    for med_info in store_values:\n",
    "        med_name = med_info[\"Name\"]\n",
    "        Medicine_Namelst.append(med_name)\n",
    "       \n",
    "    \n",
    "    a.append(Medicine_Namelst)\n",
    "    Name_Lst = [item for sublist in a for item in sublist]\n",
    "    return Name_Lst\n",
    "    \n",
    "\n",
    "# Extract Medicine Price List\n",
    "def get_price_info():\n",
    "    global Med_priceLst\n",
    "    b = []\n",
    "    get_Med_Price = []\n",
    "    for med_info in store_values:\n",
    "        med_price = med_info[\"Price\"]\n",
    "        get_Med_Price.append(med_price)\n",
    "\n",
    "    b.append(get_Med_Price)\n",
    "    Med_priceLst = [item for sublist in b for item in sublist]\n",
    "    return Med_priceLst\n",
    "\n",
    "\n",
    "Med_Name_Dict = {get_Med_info()[i]: Store_Keylst[i] for i in range(len(get_Med_info())) }\n",
    "Med_Price_Dict = {get_Med_info()[i]: get_price_info()[i] for i in range(len(get_price_info()))}\n",
    "\n",
    "\n",
    "search_lst = list()\n",
    "result_lst = list()\n",
    "\n",
    "# Search \n",
    "name = str(input(\"Write the Name of the Medicine: \"))\n",
    "search_lst.append(name)\n",
    "if name in get_Med_info():\n",
    "    result = \"Available!\"\n",
    "    print(result)\n",
    "    print(\"ID: \",Med_Name_Dict[name])\n",
    "    print(\"Price: \", Med_Price_Dict[name])\n",
    "    \n",
    "else:\n",
    "    result = \"Not Available\"\n",
    "    print(\"Will be available shortly.\")\n",
    "\n",
    "result_lst.append(result)\n",
    "\n",
    "history_dct = {search_lst[i]: result_lst[i] for i in range(len(search_lst))}\n",
    "\n",
    "# Receipt Number\n",
    "ch = s.ascii_letters + s.digits\n",
    "rcp = \"\".join(choice(ch) for x in range(randint(12,14)))\n",
    "search_id = \"978735-\" + rcp\n",
    "\n",
    "\n",
    "# Date Time:\n",
    "now = datetime.now()\n",
    "date = now.strftime(\"%d/%m/%Y %H:%M:%S\")\n",
    "\n",
    "h_data[search_id] = [date,[history_dct]]\n",
    "\n",
    "with open(\"Search_History.json\", \"w\") as Json_f:\n",
    "    json.dump(h_data, Json_f)"
   ]
  },
  {
   "cell_type": "code",
   "execution_count": 4,
   "metadata": {
    "id": "3Q-WKYqVbxhW"
   },
   "outputs": [
    {
     "data": {
      "text/plain": [
       "{'978735-WnddsymClZ02RR': ['06/09/2021 01:22:39',\n",
       "  [{'Scaboma': 'Will be available shortly.'}]],\n",
       " '978735-P1AEiG6ZT6Rq': ['06/09/2021 01:22:55',\n",
       "  [{'Nimtech Plus': 'Available!'}]],\n",
       " '978735-HJyZ6Xnh9wfAVi': ['06/09/2021 01:23:07',\n",
       "  [{'Torex': 'Will be available shortly.'}]],\n",
       " '978735-ieSuoUqWXyzs': ['06/09/2021 01:23:37',\n",
       "  [{'Sualin': 'Will be available shortly.'}]],\n",
       " '978735-zI1EK8YxjchBVs': ['06/09/2021 01:24:59',\n",
       "  [{'Vicks Rollon': 'Not Available'}]],\n",
       " '978735-c3VeQ1RSUnBdQ8': ['06/09/2021 01:25:37',\n",
       "  [{'Sensodyne Toothpaste': 'Not Available'}]],\n",
       " '978735-kK8LQPBPzDg6ky': ['06/09/2021 01:25:58',\n",
       "  [{'Pantosec DSR': 'Not Available'}]],\n",
       " '978735-FsBKsx43FTyvb': ['06/09/2021 01:26:24',\n",
       "  [{'Femcinol': 'Not Available'}]],\n",
       " '978735-COuT8zD4hmQC': ['06/09/2021 02:48:02', [{'Scaboma': 'Available!'}]],\n",
       " '978735-5hhK5YALeKOA7a': ['06/09/2021 02:48:17',\n",
       "  [{'Glofa face wash': 'Not Available'}]]}"
      ]
     },
     "execution_count": 4,
     "metadata": {},
     "output_type": "execute_result"
    }
   ],
   "source": [
    "with open(\"Search_History.json\") as js:\n",
    "    h_data = json.load(js)\n",
    "\n",
    "h_data"
   ]
  },
  {
   "cell_type": "code",
   "execution_count": null,
   "metadata": {},
   "outputs": [],
   "source": []
  },
  {
   "cell_type": "code",
   "execution_count": null,
   "metadata": {},
   "outputs": [],
   "source": []
  }
 ],
 "metadata": {
  "colab": {
   "collapsed_sections": [],
   "name": "Search_engine.ipynb",
   "provenance": []
  },
  "kernelspec": {
   "display_name": "Python 3 (ipykernel)",
   "language": "python",
   "name": "python3"
  },
  "language_info": {
   "codemirror_mode": {
    "name": "ipython",
    "version": 3
   },
   "file_extension": ".py",
   "mimetype": "text/x-python",
   "name": "python",
   "nbconvert_exporter": "python",
   "pygments_lexer": "ipython3",
   "version": "3.9.5"
  }
 },
 "nbformat": 4,
 "nbformat_minor": 1
}
