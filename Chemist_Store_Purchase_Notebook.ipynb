{
  "nbformat": 4,
  "nbformat_minor": 0,
  "metadata": {
    "colab": {
      "name": "Chemist_Store_Purchase_Notebook.ipynb",
      "provenance": [],
      "collapsed_sections": []
    },
    "kernelspec": {
      "name": "python3",
      "display_name": "Python 3"
    },
    "language_info": {
      "name": "python"
    }
  },
  "cells": [
    {
      "cell_type": "markdown",
      "metadata": {
        "id": "oQoelohdFrxH"
      },
      "source": [
        "##### Note:\n",
        "1. Before proceeding upload the \"chemist_store.json\" and \"Purchase_Record.json\" files"
      ]
    },
    {
      "cell_type": "code",
      "metadata": {
        "id": "CoLufXTZJ2sE"
      },
      "source": [
        "import json\n",
        "from datetime import datetime"
      ],
      "execution_count": 1,
      "outputs": []
    },
    {
      "cell_type": "markdown",
      "metadata": {
        "id": "bSa-xb2LbZE6"
      },
      "source": [
        "### Purchasing New Medicine"
      ]
    },
    {
      "cell_type": "code",
      "metadata": {
        "colab": {
          "base_uri": "https://localhost:8080/"
        },
        "id": "PjVdBkt2bX07",
        "outputId": "4fd16f3e-275f-4f5a-c1c5-54e600a1f1d9"
      },
      "source": [
        "# Open Json files\n",
        "with open(\"chemist_store.json\", \"r\") as acess_file:\n",
        "  store_data = json.load(acess_file)\n",
        "\n",
        "with open(\"Purchase_Record.json\", \"r\") as acess_json:\n",
        "  purchase_data = json.load(acess_json)\n",
        "\n",
        "total_amt = []\n",
        "purchase = {}\n",
        "\n",
        "# Take input\n",
        "suplier = str(input(\"Suplier/Vendor's Name: \"))\n",
        "for num_med in range(0, int(input(\"Total Number of Medicine: \"))):\n",
        "    pr_id = '978735'+ str(input(\"Product ID: \"))\n",
        "    name = str(input(\"Name of the Medicine: \"))\n",
        "    price = float(input(\"Price of the Medicine: \"))\n",
        "    catg = str(input(\"Catagory of the Medicine: \"))\n",
        "    mfg = str(input(\"Mfg. Dt. of the Medicine: \"))\n",
        "    exp = str(input(\"Exp. Dt. of the Medicine: \"))\n",
        "    comp = str(input(\"Compostion of the Medicine: \"))\n",
        "    use = str(input(\"Use of the Medicine: \"))\n",
        "    brand = str(input(\"Name of manufact. company of the Medicine: \"))\n",
        "    qn = int(input(\"Quantity of the Medicine being purchased: \"))\n",
        "    \n",
        "    store_data[pr_id] = {'Name': name, 'Price': str(price), 'Catagory': catg, 'Mfg. Date': mfg, 'Exp. Date': exp, 'Composition': comp, 'Use': use, 'Brand': brand, 'Quantity': str(qn)}\n",
        "    \n",
        "    purchase[pr_id]=[name, qn, price, float(qn)*price]\n",
        "    total_amt.append(float(qn) * price)\n",
        "\n",
        "# Total Amount\n",
        "sum_amt = sum(total_amt)\n",
        "\n",
        "# Date and time\n",
        "now = datetime.now()\n",
        "date_str = now.strftime(\"%d/%m/%Y %H:%M:%S\")\n",
        "\n",
        "purchase_data[date_str] = [suplier, purchase]\n",
        "\n",
        "# Update Json files\n",
        "with open('chemist_store.json', 'w') as js_f:\n",
        "  json.dump(store_data, js_f)\n",
        "\n",
        "with open('Purchase_Record.json', 'w') as js_file:\n",
        "  json.dump(purchase_data, js_file)\n",
        "\n",
        "# Billing:\n",
        "print('--------------------------------------------------------------------------')\n",
        "print(\"~~~~~~~~~~~~~~~~~~~~~~~~~~~~~~~~~~~~~~~~~~~~~~~~~~~~~~~~~~~~~~~~~~~~~~~~~~\")\n",
        "print(\"Date:       \", date_str)\n",
        "print(\"Suplier:    \", suplier)\n",
        "print(\"Medicine ID: [Med. Name, Quantity, Amt, Tot-₹]\")\n",
        "for key in purchase:\n",
        "  print(key, \":\", purchase[key])\n",
        "print(\"Total Amount: \", str(sum_amt),\"₹\")\n",
        "print(\"-------------------------------------------------------------------------\")\n",
        "print(\"Store Records Updated!!!\")\n"
      ],
      "execution_count": 12,
      "outputs": [
        {
          "output_type": "stream",
          "name": "stdout",
          "text": [
            "Suplier/Vendor's Name: Milton Cares Ltd.\n",
            "Total Number of Medicine: 3\n",
            "Product ID: 0068\n",
            "Name of the Medicine: Pantop 40\n",
            "Price of the Medicine: 109.48\n",
            "Catagory of the Medicine: Tablet\n",
            "Mfg. Dt. of the Medicine: May-21\n",
            "Exp. Dt. of the Medicine: Mar-24\n",
            "Compostion of the Medicine: Pantoprazole 40mg\n",
            "Use of the Medicine: Acid reflux, Peptic ulcer, Heartburn\n",
            "Name of manufact. company of the Medicine: Aristo Pharma.\n",
            "Quantity of the Medicine being purchased: 200\n",
            "Product ID: 0069\n",
            "Name of the Medicine: Zinconia 50\n",
            "Price of the Medicine: 55.6\n",
            "Catagory of the Medicine: Tablet\n",
            "Mfg. Dt. of the Medicine: Apr-21\n",
            "Exp. Dt. of the Medicine: Sep-23\n",
            "Compostion of the Medicine: Zinc Acitate 50mg\n",
            "Use of the Medicine: Zinc deficiency, weakness, Blood thiner\n",
            "Name of manufact. company of the Medicine: Zuventus\n",
            "Quantity of the Medicine being purchased: 230\n",
            "Product ID: 0070\n",
            "Name of the Medicine: Torex\n",
            "Price of the Medicine: 108.5\n",
            "Catagory of the Medicine: Syrup\n",
            "Mfg. Dt. of the Medicine: Dec-20\n",
            "Exp. Dt. of the Medicine: Nov-22\n",
            "Compostion of the Medicine: Diphenhydramine, Terpin Hydrate, Ammonium Chloride, Sodium citrate\n",
            "Use of the Medicine: Cough\n",
            "Name of manufact. company of the Medicine: Torque Pharma.\n",
            "Quantity of the Medicine being purchased: 85\n",
            "--------------------------------------------------------------------------\n",
            "~~~~~~~~~~~~~~~~~~~~~~~~~~~~~~~~~~~~~~~~~~~~~~~~~~~~~~~~~~~~~~~~~~~~~~~~~~\n",
            "Date:        06/09/2021 07:24:21\n",
            "Suplier:     Milton Cares Ltd.\n",
            "Medicine ID: [Med. Name, Quantity, Amt, Tot-₹]\n",
            "9787350068 : ['Pantop 40', 200, 109.48, 21896.0]\n",
            "9787350069 : ['Zinconia 50', 230, 55.6, 12788.0]\n",
            "9787350070 : ['Torex', 85, 108.5, 9222.5]\n",
            "Total Amount:  43906.5 ₹\n",
            "-------------------------------------------------------------------------\n",
            "Store Records Updated!!!\n"
          ]
        }
      ]
    },
    {
      "cell_type": "code",
      "metadata": {
        "id": "O7Q1aFWZbgGW"
      },
      "source": [
        "# Check store record\n",
        "\n",
        "with open(\"chemist_store.json\") as j_file:\n",
        "  store_data = json.load(j_file)\n",
        "store_data"
      ],
      "execution_count": null,
      "outputs": []
    },
    {
      "cell_type": "markdown",
      "metadata": {
        "id": "R905XYNYbfLX"
      },
      "source": [
        "### Purchasing Existing Medicine"
      ]
    },
    {
      "cell_type": "code",
      "metadata": {
        "colab": {
          "base_uri": "https://localhost:8080/"
        },
        "id": "9dLv28juKsMy",
        "outputId": "4aab9034-81cb-4c98-a53c-6a6c5e38ebbf"
      },
      "source": [
        "# Open json files\n",
        "with open(\"chemist_store.json\", \"r\") as acess_file:\n",
        "  store_data = json.load(acess_file)\n",
        "\n",
        "with open(\"Purchase_Record.json\", \"r\") as acess_json:\n",
        "  purchase_data = json.load(acess_json)\n",
        "\n",
        "\n",
        "total_amt = []\n",
        "purchase = {}\n",
        "\n",
        "suplier = str(input(\"Suplier: \"))\n",
        "# Take Input\n",
        "for product_num in range(0, int(input(\"Number of Products: \"))):\n",
        "  pr_id = '978735'+ str(input('Product ID of the Medicine: '))\n",
        "  qn = int(input(\"Quantity being Purchased: \"))\n",
        "  amt = float(input(\"Price of the Medicine: \"))\n",
        "\n",
        "  # Update store\n",
        "  new_qn = str(int(store_data[pr_id]['Quantity']) + qn)\n",
        "  store_data[pr_id]['Quantity'] = new_qn\n",
        "  store_data[pr_id]['Price'] = str(amt)\n",
        "  total_amt.append(float(qn) * amt)\n",
        "\n",
        "\n",
        "  med_name = store_data[pr_id][\"Name\"]\n",
        "  purchase[pr_id] = [med_name, qn, amt, float(qn)*amt]\n",
        "\n",
        "sum_amt = sum(total_amt)\n",
        "\n",
        "# Date and time\n",
        "now = datetime.now()\n",
        "date_str = now.strftime(\"%d/%m/%Y %H:%M:%S\")\n",
        "\n",
        "purchase_data[date_str] = [suplier, purchase]\n",
        "\n",
        "# Update Json files\n",
        "with open('chemist_store.json', 'w') as js_f:\n",
        "  json.dump(store_data, js_f)\n",
        "\n",
        "with open('Purchase_Record.json', 'w') as js_file:\n",
        "  json.dump(purchase_data, js_file)\n",
        "\n",
        "# Billing:\n",
        "print('--------------------------------------------------------------------------')\n",
        "print(\"~~~~~~~~~~~~~~~~~~~~~~~~~~~~~~~~~~~~~~~~~~~~~~~~~~~~~~~~~~~~~~~~~~~~~~~~~~\")\n",
        "print(\"Date:       \", date_str)\n",
        "print(\"Suplier:    \", suplier)\n",
        "print(\"Medicine ID: [Med. Name, Quantity, Amt, Tot-₹]\")\n",
        "for key in purchase:\n",
        "  print(key, \":\", purchase[key])\n",
        "print(\"Total Amount: \", str(sum_amt),\"₹\")\n",
        "print(\"-------------------------------------------------------------------------\")\n",
        "print(\"Store Records Updated!!!\")\n"
      ],
      "execution_count": 8,
      "outputs": [
        {
          "output_type": "stream",
          "name": "stdout",
          "text": [
            "Suplier: Jagannath Pharmaceutics Ltd.\n",
            "Number of Products: 1\n",
            "Product ID of the Medicine: 0066\n",
            "Quantity being Purchased: 20\n",
            "Price of the Medicine: 292.65\n",
            "--------------------------------------------------------------------------\n",
            "~~~~~~~~~~~~~~~~~~~~~~~~~~~~~~~~~~~~~~~~~~~~~~~~~~~~~~~~~~~~~~~~~~~~~~~~~~\n",
            "Date:        06/09/2021 07:06:57\n",
            "Suplier:     Jagannath Pharmaceutics Ltd.\n",
            "Medicine ID: [Med. Name, Quantity, Amt, Tot-₹]\n",
            "9787350066 : ['Patchex', 20, 292.65, 5853.0]\n",
            "Total Amount:  5853.0 ₹\n",
            "-------------------------------------------------------------------------\n",
            "Store Records Updated!!!\n"
          ]
        }
      ]
    },
    {
      "cell_type": "code",
      "metadata": {
        "id": "w0JYrKk3Y8yS"
      },
      "source": [
        "# Check Purchase Record\n",
        "\n",
        "with open(\"Purchase_Record.json\") as jason_f:\n",
        "  purchase_data = json.load(jason_f)\n",
        "\n",
        "purchase_data"
      ],
      "execution_count": null,
      "outputs": []
    },
    {
      "cell_type": "code",
      "metadata": {
        "id": "aLgHCGgPhPPr"
      },
      "source": [
        ""
      ],
      "execution_count": null,
      "outputs": []
    }
  ]
}